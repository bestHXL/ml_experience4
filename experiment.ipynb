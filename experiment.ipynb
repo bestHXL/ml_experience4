{
 "cells": [
  {
   "cell_type": "code",
   "execution_count": 1,
   "metadata": {
    "collapsed": true
   },
   "outputs": [],
   "source": [
    "import numpy as np\n",
    "import pickle\n",
    "import numpy as np\n",
    "from sklearn.model_selection import train_test_split\n",
    "from sklearn.datasets import load_svmlight_file\n",
    "import time\n",
    "import matplotlib.pyplot as plt"
   ]
  },
  {
   "cell_type": "code",
   "execution_count": 2,
   "metadata": {
    "collapsed": true
   },
   "outputs": [],
   "source": [
    "def readfile( file_name):\n",
    "    file = open( file_name , 'r')\n",
    "    data = file.read()\n",
    "    file.close()\n",
    "    data = np.array( data.split( ))\n",
    "    data = data.reshape( [int(len(data)/4) , 4] )\n",
    "    return data\n",
    "\n",
    "def populate ( matrix , data):\n",
    "    for i in range(data.shape[0]):\n",
    "        matrix[int(data[i][0])-1][int(data[i][1])-1] = data[i][2]\n",
    "    return matrix\n",
    "\n",
    "def makeRitingMatrix(i):\n",
    "    riting_b = np.zeros(943*1682).reshape((943,1682))\n",
    "    riting_t = np.zeros(943*1682).reshape((943,1682))\n",
    " #   for i in ['1','2','3','4','5']:\n",
    "    data1 = readfile('ml-100k/u' + i + '.base')\n",
    "    data2 = readfile('ml-100k/u' + i + '.test')\n",
    "    populate(riting_b,data1)\n",
    "    populate(riting_t,data2)\n",
    "    return riting_b, riting_t\n"
   ]
  },
  {
   "cell_type": "code",
   "execution_count": 3,
   "metadata": {
    "collapsed": true
   },
   "outputs": [],
   "source": [
    "def matrix_factorization(R, R_t, P, Q, K, steps=500, alpha=0.0002, beta=0.02):\n",
    "    Q = Q.T\n",
    "    #L_v = []\n",
    "    e_list = []\n",
    "    for step in range(steps):\n",
    "       # L_v.append(loss(np.dot(P, Q), P, Q, lam_p, lam_q))\n",
    "        for i in range(len(R)):\n",
    "            for j in range(len(R[i])):\n",
    "                if R[i][j] > 0:\n",
    "                    eij = R[i][j] - np.dot(P[i,:],Q[:,j])\n",
    "                    for k in range(K):\n",
    "                        P[i][k] = P[i][k] + alpha * (2 * eij * Q[k][j] - beta * P[i][k])\n",
    "                        Q[k][j] = Q[k][j] + alpha * (2 * eij * P[i][k] - beta * Q[k][j])\n",
    "        if step%10 == 0:\n",
    "            e = 0\n",
    "            for i in range(len(R_t)):\n",
    "                for j in range(len(R_t[i])): \n",
    "                    if R_t[i][j] > 0:\n",
    "                        e = e + pow(R_t[i][j] - np.dot(P[i,:],Q[:,j]), 2)\n",
    "                        for k in range(K):\n",
    "                            e = e + (beta/2) * (pow(P[i][k],2) + pow(Q[k][j],2))\n",
    "            e = e/(R.shape[0]*R.shape[1])\n",
    "            e_list.append(e)\n",
    "            print(e)\n",
    "            if e < 0.001:\n",
    "                break\n",
    "    return P, Q.T, e_list\n"
   ]
  },
  {
   "cell_type": "code",
   "execution_count": 4,
   "metadata": {},
   "outputs": [
    {
     "name": "stdout",
     "output_type": "stream",
     "text": [
      "0.122631666957\n",
      "0.0319609903852\n",
      "0.0201121616816\n",
      "0.0166616569202\n",
      "0.0151410037122\n",
      "0.0143260114481\n",
      "0.013834806758\n",
      "0.0135151102037\n",
      "0.013295576008\n",
      "0.0131387545564\n",
      "0.0130232770193\n",
      "0.0129361530716\n",
      "0.0128690855553\n",
      "0.0128165604295\n",
      "0.0127747912904\n",
      "0.0127411049328\n",
      "0.0127135679664\n",
      "0.0126907516231\n",
      "0.0126715790458\n",
      "0.0126552235517\n",
      "0.012641039383\n",
      "0.0126285137387\n",
      "0.012617233102\n",
      "0.0126068593858\n",
      "0.0125971129537\n",
      "0.0125877605264\n",
      "0.0125786065913\n",
      "0.0125694873238\n",
      "0.0125602662937\n",
      "0.0125508314114\n",
      "0.0125410927033\n",
      "0.0125309806111\n",
      "0.0125204445945\n",
      "0.01250945188\n",
      "0.012497986256\n",
      "0.0124860468417\n",
      "0.0124736467876\n",
      "0.0124608118744\n",
      "0.0124475789941\n",
      "0.0124339945048\n",
      "0.0124201124739\n",
      "0.0124059928361\n",
      "0.0123916995162\n",
      "0.0123772985753\n",
      "0.0123628564462\n",
      "0.0123484383195\n",
      "0.0123341067327\n",
      "0.0123199203963\n",
      "0.0123059332775\n",
      "0.0122921939407\n"
     ]
    },
    {
     "data": {
      "image/png": "[encoded data removed]",
      "text/plain": [
       "<matplotlib.figure.Figure at 0x18b55494278>"
      ]
     },
     "metadata": {},
     "output_type": "display_data"
    }
   ],
   "source": [
    "riting_b , riting_t = makeRitingMatrix('1')\n",
    "N = len(riting_b)\n",
    "M = len(riting_b[0])\n",
    "K = 2\n",
    "\n",
    "P = np.random.rand(N,K)\n",
    "Q = np.random.rand(M,K)\n",
    "\n",
    "\n",
    "nP, nQ, L_v = matrix_factorization(riting_b, riting_t, P, Q, K)\n",
    "\n",
    "plt.xlabel('times')\n",
    "plt.ylabel('loss')\n",
    "plt.plot(np.arange(len(L_v)),np.array(L_v),label=\"L_validation\")\n",
    "plt.legend(bbox_to_anchor=(1.0, 1), loc=1, borderaxespad=0.)  \n",
    "plt.show()"
   ]
  },
  {
   "cell_type": "code",
   "execution_count": 5,
   "metadata": {},
   "outputs": [
    {
     "name": "stdout",
     "output_type": "stream",
     "text": [
      "accurancy: 0.007328547668974596\n"
     ]
    }
   ],
   "source": [
    "error = 0\n",
    "nR = np.dot(nP, nQ.T)\n",
    "for i in range(len(riting_t)):\n",
    "    for j in range(len(riting_t[i])):\n",
    "        if (np.square(nR[i][j]-riting_t[i][j])>=0.25 and riting_t[i][j]!=0 ):\n",
    "            error = error + 1\n",
    "print('accurancy:', error/(N*M))"
   ]
  },
  {
   "cell_type": "code",
   "execution_count": null,
   "metadata": {
    "collapsed": true
   },
   "outputs": [],
   "source": []
  },
  {
   "cell_type": "code",
   "execution_count": null,
   "metadata": {
    "collapsed": true
   },
   "outputs": [],
   "source": []
  }
 ],
 "metadata": {
  "kernelspec": {
   "display_name": "Python 3",
   "language": "python",
   "name": "python3"
  },
  "language_info": {
   "codemirror_mode": {
    "name": "ipython",
    "version": 3
   },
   "file_extension": ".py",
   "mimetype": "text/x-python",
   "name": "python",
   "nbconvert_exporter": "python",
   "pygments_lexer": "ipython3",
   "version": "3.6.3"
  }
 },
 "nbformat": 4,
 "nbformat_minor": 2
}
